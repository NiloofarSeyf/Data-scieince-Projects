{
  "nbformat": 4,
  "nbformat_minor": 0,
  "metadata": {
    "colab": {
      "provenance": [],
      "include_colab_link": true
    },
    "kernelspec": {
      "name": "python3",
      "display_name": "Python 3"
    },
    "language_info": {
      "name": "python"
    },
    "accelerator": "GPU",
    "gpuClass": "standard"
  },
  "cells": [
    {
      "cell_type": "markdown",
      "metadata": {
        "id": "view-in-github",
        "colab_type": "text"
      },
      "source": [
        "<a href=\"https://colab.research.google.com/github/NiloofarSeyf/Data-scieince-Projects/blob/main/Maskclassification99%25_Accuracy.ipynb\" target=\"_parent\"><img src=\"https://colab.research.google.com/assets/colab-badge.svg\" alt=\"Open In Colab\"/></a>"
      ]
    },
    {
      "cell_type": "code",
      "execution_count": 4,
      "metadata": {
        "id": "CPz2BlsGGuFo",
        "colab": {
          "base_uri": "https://localhost:8080/"
        },
        "outputId": "02720eca-13cb-496a-daee-2e3ef787734f"
      },
      "outputs": [
        {
          "output_type": "stream",
          "name": "stdout",
          "text": [
            "Looking in indexes: https://pypi.org/simple, https://us-python.pkg.dev/colab-wheels/public/simple/\n",
            "Collecting split-folders\n",
            "  Downloading split_folders-0.5.1-py3-none-any.whl (8.4 kB)\n",
            "Installing collected packages: split-folders\n",
            "Successfully installed split-folders-0.5.1\n"
          ]
        }
      ],
      "source": [
        "#importing dependencies\n",
        "import keras\n",
        "from keras.models import Sequential\n",
        "from keras.utils import np_utils\n",
        "from keras.preprocessing.image import ImageDataGenerator\n",
        "from keras.layers import Dense, Activation, Flatten, Dropout, BatchNormalization\n",
        "from keras.layers import Conv2D, MaxPooling2D\n",
        "from keras import regularizers, optimizers\n",
        "import numpy as np\n",
        "import pandas as pd\n",
        "import matplotlib.pyplot as plt \n",
        "from matplotlib import pyplot\n",
        "from keras.preprocessing.image import ImageDataGenerator\n",
        "from keras.preprocessing import image\n",
        "from keras.applications import imagenet_utils\n",
        "from keras.applications import vgg16\n",
        "from keras.optimizers import Adam, SGD\n",
        "from keras.metrics import categorical_crossentropy\n",
        "!pip install split-folders\n",
        "import splitfolders\n",
        "import itertools\n",
        "%matplotlib inline\n"
      ]
    },
    {
      "cell_type": "code",
      "source": [
        "# Loading and splitting data into train, tvalidatio and test\n",
        "\n",
        "splitfolders.ratio('/content/dataset', output='/content/output', seed=123, ratio=(.7,.15,.15), group_prefix=None)"
      ],
      "metadata": {
        "id": "LHWcnKZ7DVMr",
        "colab": {
          "base_uri": "https://localhost:8080/"
        },
        "outputId": "81f87960-aece-4bfc-f8ce-ff96ea25a21c"
      },
      "execution_count": 5,
      "outputs": [
        {
          "output_type": "stream",
          "name": "stderr",
          "text": [
            "Copying files: 1376 files [00:00, 3880.86 files/s]\n"
          ]
        }
      ]
    },
    {
      "cell_type": "code",
      "source": [
        "#Data preparation\n",
        "\n",
        "train_path = '/content/output/train'\n",
        "valid_path = '/content/output/val'\n",
        "test_path ='/content/output/test'"
      ],
      "metadata": {
        "id": "3mP7SKzYupCy"
      },
      "execution_count": 17,
      "outputs": []
    },
    {
      "cell_type": "code",
      "source": [
        "train_batches = ImageDataGenerator(preprocessing_function=vgg16.preprocess_input).flow_from_directory(\n",
        "    train_path, target_size=(224,224), batch_size=30)\n",
        "valid_batches = ImageDataGenerator(preprocessing_function=vgg16.preprocess_input).flow_from_directory(\n",
        "    valid_path, target_size=(224,224), batch_size=30)\n",
        "test_batches = ImageDataGenerator(preprocessing_function=vgg16.preprocess_input).flow_from_directory(\n",
        "    test_path, target_size=(224,224),class_mode = 'binary' ,batch_size=30)"
      ],
      "metadata": {
        "colab": {
          "base_uri": "https://localhost:8080/"
        },
        "id": "fUKyvyQivlER",
        "outputId": "c2fe4ab9-be1b-4b6e-d6ae-abaed52df41a"
      },
      "execution_count": 30,
      "outputs": [
        {
          "output_type": "stream",
          "name": "stdout",
          "text": [
            "Found 962 images belonging to 2 classes.\n",
            "Found 205 images belonging to 2 classes.\n",
            "Found 209 images belonging to 2 classes.\n"
          ]
        }
      ]
    },
    {
      "cell_type": "code",
      "source": [
        "import os\n",
        "dir = os.listdir('/content/output/test')\n",
        "print(dir)"
      ],
      "metadata": {
        "colab": {
          "base_uri": "https://localhost:8080/"
        },
        "id": "OT3ujGi1T3qS",
        "outputId": "19696b13-b8f7-438c-fa41-f6b131e72afe"
      },
      "execution_count": 23,
      "outputs": [
        {
          "output_type": "stream",
          "name": "stdout",
          "text": [
            "['mask', '.ipynb_checkpoints', 'withoutmaskk']\n"
          ]
        }
      ]
    },
    {
      "cell_type": "code",
      "source": [
        "\n",
        "#file_path = ('/content/output/val/.ipynb_checkpoints')\n",
        "#os.rmdir(file_path)"
      ],
      "metadata": {
        "id": "zY-nnXNBTsdo"
      },
      "execution_count": 29,
      "outputs": []
    },
    {
      "cell_type": "code",
      "source": [
        "base_model = vgg16.VGG16(weights = \"imagenet\", include_top=False, input_shape = (224,224, 3))\n",
        "base_model.summary()"
      ],
      "metadata": {
        "colab": {
          "base_uri": "https://localhost:8080/"
        },
        "id": "TON-um_DYOEC",
        "outputId": "325a04d2-a2e7-43eb-bd52-7339a13070cf"
      },
      "execution_count": 31,
      "outputs": [
        {
          "output_type": "stream",
          "name": "stdout",
          "text": [
            "Model: \"vgg16\"\n",
            "_________________________________________________________________\n",
            " Layer (type)                Output Shape              Param #   \n",
            "=================================================================\n",
            " input_2 (InputLayer)        [(None, 224, 224, 3)]     0         \n",
            "                                                                 \n",
            " block1_conv1 (Conv2D)       (None, 224, 224, 64)      1792      \n",
            "                                                                 \n",
            " block1_conv2 (Conv2D)       (None, 224, 224, 64)      36928     \n",
            "                                                                 \n",
            " block1_pool (MaxPooling2D)  (None, 112, 112, 64)      0         \n",
            "                                                                 \n",
            " block2_conv1 (Conv2D)       (None, 112, 112, 128)     73856     \n",
            "                                                                 \n",
            " block2_conv2 (Conv2D)       (None, 112, 112, 128)     147584    \n",
            "                                                                 \n",
            " block2_pool (MaxPooling2D)  (None, 56, 56, 128)       0         \n",
            "                                                                 \n",
            " block3_conv1 (Conv2D)       (None, 56, 56, 256)       295168    \n",
            "                                                                 \n",
            " block3_conv2 (Conv2D)       (None, 56, 56, 256)       590080    \n",
            "                                                                 \n",
            " block3_conv3 (Conv2D)       (None, 56, 56, 256)       590080    \n",
            "                                                                 \n",
            " block3_pool (MaxPooling2D)  (None, 28, 28, 256)       0         \n",
            "                                                                 \n",
            " block4_conv1 (Conv2D)       (None, 28, 28, 512)       1180160   \n",
            "                                                                 \n",
            " block4_conv2 (Conv2D)       (None, 28, 28, 512)       2359808   \n",
            "                                                                 \n",
            " block4_conv3 (Conv2D)       (None, 28, 28, 512)       2359808   \n",
            "                                                                 \n",
            " block4_pool (MaxPooling2D)  (None, 14, 14, 512)       0         \n",
            "                                                                 \n",
            " block5_conv1 (Conv2D)       (None, 14, 14, 512)       2359808   \n",
            "                                                                 \n",
            " block5_conv2 (Conv2D)       (None, 14, 14, 512)       2359808   \n",
            "                                                                 \n",
            " block5_conv3 (Conv2D)       (None, 14, 14, 512)       2359808   \n",
            "                                                                 \n",
            " block5_pool (MaxPooling2D)  (None, 7, 7, 512)         0         \n",
            "                                                                 \n",
            "=================================================================\n",
            "Total params: 14,714,688\n",
            "Trainable params: 14,714,688\n",
            "Non-trainable params: 0\n",
            "_________________________________________________________________\n"
          ]
        }
      ]
    },
    {
      "cell_type": "code",
      "source": [
        "# iterate through its layers and lock them to make them not trainable with this code\n",
        "for layer in base_model.layers:\n",
        "    layer.trainable = False\n",
        "\n",
        "base_model.summary()"
      ],
      "metadata": {
        "colab": {
          "base_uri": "https://localhost:8080/"
        },
        "id": "tXdO8q3AwjOq",
        "outputId": "c8d6a3a2-4dd5-416f-a10c-1c1f6a0dadc7"
      },
      "execution_count": 32,
      "outputs": [
        {
          "output_type": "stream",
          "name": "stdout",
          "text": [
            "Model: \"vgg16\"\n",
            "_________________________________________________________________\n",
            " Layer (type)                Output Shape              Param #   \n",
            "=================================================================\n",
            " input_2 (InputLayer)        [(None, 224, 224, 3)]     0         \n",
            "                                                                 \n",
            " block1_conv1 (Conv2D)       (None, 224, 224, 64)      1792      \n",
            "                                                                 \n",
            " block1_conv2 (Conv2D)       (None, 224, 224, 64)      36928     \n",
            "                                                                 \n",
            " block1_pool (MaxPooling2D)  (None, 112, 112, 64)      0         \n",
            "                                                                 \n",
            " block2_conv1 (Conv2D)       (None, 112, 112, 128)     73856     \n",
            "                                                                 \n",
            " block2_conv2 (Conv2D)       (None, 112, 112, 128)     147584    \n",
            "                                                                 \n",
            " block2_pool (MaxPooling2D)  (None, 56, 56, 128)       0         \n",
            "                                                                 \n",
            " block3_conv1 (Conv2D)       (None, 56, 56, 256)       295168    \n",
            "                                                                 \n",
            " block3_conv2 (Conv2D)       (None, 56, 56, 256)       590080    \n",
            "                                                                 \n",
            " block3_conv3 (Conv2D)       (None, 56, 56, 256)       590080    \n",
            "                                                                 \n",
            " block3_pool (MaxPooling2D)  (None, 28, 28, 256)       0         \n",
            "                                                                 \n",
            " block4_conv1 (Conv2D)       (None, 28, 28, 512)       1180160   \n",
            "                                                                 \n",
            " block4_conv2 (Conv2D)       (None, 28, 28, 512)       2359808   \n",
            "                                                                 \n",
            " block4_conv3 (Conv2D)       (None, 28, 28, 512)       2359808   \n",
            "                                                                 \n",
            " block4_pool (MaxPooling2D)  (None, 14, 14, 512)       0         \n",
            "                                                                 \n",
            " block5_conv1 (Conv2D)       (None, 14, 14, 512)       2359808   \n",
            "                                                                 \n",
            " block5_conv2 (Conv2D)       (None, 14, 14, 512)       2359808   \n",
            "                                                                 \n",
            " block5_conv3 (Conv2D)       (None, 14, 14, 512)       2359808   \n",
            "                                                                 \n",
            " block5_pool (MaxPooling2D)  (None, 7, 7, 512)         0         \n",
            "                                                                 \n",
            "=================================================================\n",
            "Total params: 14,714,688\n",
            "Trainable params: 0\n",
            "Non-trainable params: 14,714,688\n",
            "_________________________________________________________________\n"
          ]
        }
      ]
    },
    {
      "cell_type": "code",
      "source": [
        "from keras.layers import Dense, Flatten, Dropout, BatchNormalization\n",
        "from keras.models import Model\n",
        "\n",
        "# use “get_layer” method to save the last layer of the network\n",
        "# save the output of the last layer to be the input of the next layer\n",
        "last_layer = base_model.get_layer('block5_pool')\n",
        "last_output = last_layer.output\n",
        "\n",
        "# flatten the classifier input which is output of the last layer of VGG16 model\n",
        "x = Flatten()(last_output)\n",
        "\n",
        "# add FC layer, which has 64 units and relu activation \n",
        "x = Dense(64, activation='relu', name='FC_2')(x)\n",
        "x = BatchNormalization()(x)\n",
        "x = Dropout(0.5)(x)\n",
        "# add our new softmax layer with 2 hidden units\n",
        "x = Dense(2, activation='softmax', name='softmax')(x)\n",
        "\n",
        "# instantiate a new_model using keras’s Model class\n",
        "new_model = Model(inputs=base_model.input, outputs=x)\n",
        "\n",
        "# print the new_model summary\n",
        "new_model.summary()"
      ],
      "metadata": {
        "colab": {
          "base_uri": "https://localhost:8080/"
        },
        "id": "pQ9FE22NwxtU",
        "outputId": "8b7ee5ff-2df4-487b-da14-0c547e4c2aba"
      },
      "execution_count": 33,
      "outputs": [
        {
          "output_type": "stream",
          "name": "stdout",
          "text": [
            "Model: \"model_1\"\n",
            "_________________________________________________________________\n",
            " Layer (type)                Output Shape              Param #   \n",
            "=================================================================\n",
            " input_2 (InputLayer)        [(None, 224, 224, 3)]     0         \n",
            "                                                                 \n",
            " block1_conv1 (Conv2D)       (None, 224, 224, 64)      1792      \n",
            "                                                                 \n",
            " block1_conv2 (Conv2D)       (None, 224, 224, 64)      36928     \n",
            "                                                                 \n",
            " block1_pool (MaxPooling2D)  (None, 112, 112, 64)      0         \n",
            "                                                                 \n",
            " block2_conv1 (Conv2D)       (None, 112, 112, 128)     73856     \n",
            "                                                                 \n",
            " block2_conv2 (Conv2D)       (None, 112, 112, 128)     147584    \n",
            "                                                                 \n",
            " block2_pool (MaxPooling2D)  (None, 56, 56, 128)       0         \n",
            "                                                                 \n",
            " block3_conv1 (Conv2D)       (None, 56, 56, 256)       295168    \n",
            "                                                                 \n",
            " block3_conv2 (Conv2D)       (None, 56, 56, 256)       590080    \n",
            "                                                                 \n",
            " block3_conv3 (Conv2D)       (None, 56, 56, 256)       590080    \n",
            "                                                                 \n",
            " block3_pool (MaxPooling2D)  (None, 28, 28, 256)       0         \n",
            "                                                                 \n",
            " block4_conv1 (Conv2D)       (None, 28, 28, 512)       1180160   \n",
            "                                                                 \n",
            " block4_conv2 (Conv2D)       (None, 28, 28, 512)       2359808   \n",
            "                                                                 \n",
            " block4_conv3 (Conv2D)       (None, 28, 28, 512)       2359808   \n",
            "                                                                 \n",
            " block4_pool (MaxPooling2D)  (None, 14, 14, 512)       0         \n",
            "                                                                 \n",
            " block5_conv1 (Conv2D)       (None, 14, 14, 512)       2359808   \n",
            "                                                                 \n",
            " block5_conv2 (Conv2D)       (None, 14, 14, 512)       2359808   \n",
            "                                                                 \n",
            " block5_conv3 (Conv2D)       (None, 14, 14, 512)       2359808   \n",
            "                                                                 \n",
            " block5_pool (MaxPooling2D)  (None, 7, 7, 512)         0         \n",
            "                                                                 \n",
            " flatten_1 (Flatten)         (None, 25088)             0         \n",
            "                                                                 \n",
            " FC_2 (Dense)                (None, 64)                1605696   \n",
            "                                                                 \n",
            " batch_normalization_1 (Batc  (None, 64)               256       \n",
            " hNormalization)                                                 \n",
            "                                                                 \n",
            " dropout_1 (Dropout)         (None, 64)                0         \n",
            "                                                                 \n",
            " softmax (Dense)             (None, 2)                 130       \n",
            "                                                                 \n",
            "=================================================================\n",
            "Total params: 16,320,770\n",
            "Trainable params: 1,605,954\n",
            "Non-trainable params: 14,714,816\n",
            "_________________________________________________________________\n"
          ]
        }
      ]
    },
    {
      "cell_type": "code",
      "source": [
        "from keras.callbacks import ModelCheckpoint   \n",
        "\n",
        "checkpointer = ModelCheckpoint(filepath='model.VGG1650epochs.hdf5', verbose=1, save_best_only=True)\n",
        "#earlystopping = EarlyStopping(monitor='val_loss', min_delta = 0, verbose=1, patience=5)\n",
        "callbacks=[checkpointer]\n",
        "\n",
        "new_model.compile(Adam(learning_rate=0.0001), loss='categorical_crossentropy', metrics=['accuracy'])\n",
        "history = new_model.fit(train_batches, steps_per_epoch=4,\n",
        "                   validation_data=valid_batches, validation_steps=2, epochs=50, verbose=2, callbacks = callbacks)"
      ],
      "metadata": {
        "colab": {
          "base_uri": "https://localhost:8080/"
        },
        "id": "8LHH5hIbxBNF",
        "outputId": "09e26700-da28-407b-873a-b5e77d0b4fda"
      },
      "execution_count": 34,
      "outputs": [
        {
          "output_type": "stream",
          "name": "stdout",
          "text": [
            "Epoch 1/50\n",
            "\n",
            "Epoch 1: val_loss improved from inf to 1.07209, saving model to model.VGG1650epochs.hdf5\n",
            "4/4 - 78s - loss: 1.0536 - accuracy: 0.6667 - val_loss: 1.0721 - val_accuracy: 0.8500 - 78s/epoch - 19s/step\n",
            "Epoch 2/50\n",
            "\n",
            "Epoch 2: val_loss improved from 1.07209 to 0.32773, saving model to model.VGG1650epochs.hdf5\n",
            "4/4 - 76s - loss: 0.4253 - accuracy: 0.8500 - val_loss: 0.3277 - val_accuracy: 0.9167 - 76s/epoch - 19s/step\n",
            "Epoch 3/50\n",
            "\n",
            "Epoch 3: val_loss did not improve from 0.32773\n",
            "4/4 - 73s - loss: 0.2527 - accuracy: 0.8917 - val_loss: 0.3623 - val_accuracy: 0.9000 - 73s/epoch - 18s/step\n",
            "Epoch 4/50\n",
            "\n",
            "Epoch 4: val_loss improved from 0.32773 to 0.02977, saving model to model.VGG1650epochs.hdf5\n",
            "4/4 - 74s - loss: 0.1782 - accuracy: 0.9167 - val_loss: 0.0298 - val_accuracy: 0.9833 - 74s/epoch - 18s/step\n",
            "Epoch 5/50\n",
            "\n",
            "Epoch 5: val_loss did not improve from 0.02977\n",
            "4/4 - 73s - loss: 0.1503 - accuracy: 0.9417 - val_loss: 0.1539 - val_accuracy: 0.9667 - 73s/epoch - 18s/step\n",
            "Epoch 6/50\n",
            "\n",
            "Epoch 6: val_loss did not improve from 0.02977\n",
            "4/4 - 80s - loss: 0.0648 - accuracy: 0.9667 - val_loss: 0.2212 - val_accuracy: 0.9667 - 80s/epoch - 20s/step\n",
            "Epoch 7/50\n",
            "\n",
            "Epoch 7: val_loss improved from 0.02977 to 0.01475, saving model to model.VGG1650epochs.hdf5\n",
            "4/4 - 86s - loss: 0.0640 - accuracy: 0.9750 - val_loss: 0.0148 - val_accuracy: 1.0000 - 86s/epoch - 21s/step\n",
            "Epoch 8/50\n",
            "\n",
            "Epoch 8: val_loss improved from 0.01475 to 0.01309, saving model to model.VGG1650epochs.hdf5\n",
            "4/4 - 88s - loss: 0.0798 - accuracy: 0.9667 - val_loss: 0.0131 - val_accuracy: 1.0000 - 88s/epoch - 22s/step\n",
            "Epoch 9/50\n",
            "\n",
            "Epoch 9: val_loss did not improve from 0.01309\n",
            "4/4 - 90s - loss: 0.0606 - accuracy: 0.9750 - val_loss: 0.0214 - val_accuracy: 0.9833 - 90s/epoch - 22s/step\n",
            "Epoch 10/50\n",
            "\n",
            "Epoch 10: val_loss did not improve from 0.01309\n",
            "4/4 - 75s - loss: 0.1695 - accuracy: 0.9583 - val_loss: 0.0184 - val_accuracy: 0.9833 - 75s/epoch - 19s/step\n",
            "Epoch 11/50\n",
            "\n",
            "Epoch 11: val_loss improved from 0.01309 to 0.01012, saving model to model.VGG1650epochs.hdf5\n",
            "4/4 - 74s - loss: 0.1196 - accuracy: 0.9500 - val_loss: 0.0101 - val_accuracy: 1.0000 - 74s/epoch - 19s/step\n",
            "Epoch 12/50\n",
            "\n",
            "Epoch 12: val_loss did not improve from 0.01012\n",
            "4/4 - 74s - loss: 0.1685 - accuracy: 0.9500 - val_loss: 0.1071 - val_accuracy: 0.9667 - 74s/epoch - 19s/step\n",
            "Epoch 13/50\n",
            "\n",
            "Epoch 13: val_loss did not improve from 0.01012\n",
            "4/4 - 74s - loss: 0.0241 - accuracy: 0.9917 - val_loss: 0.0277 - val_accuracy: 0.9833 - 74s/epoch - 18s/step\n",
            "Epoch 14/50\n",
            "\n",
            "Epoch 14: val_loss did not improve from 0.01012\n",
            "4/4 - 72s - loss: 0.0425 - accuracy: 0.9917 - val_loss: 0.0838 - val_accuracy: 0.9833 - 72s/epoch - 18s/step\n",
            "Epoch 15/50\n",
            "\n",
            "Epoch 15: val_loss improved from 0.01012 to 0.00688, saving model to model.VGG1650epochs.hdf5\n",
            "4/4 - 73s - loss: 0.0182 - accuracy: 0.9917 - val_loss: 0.0069 - val_accuracy: 1.0000 - 73s/epoch - 18s/step\n",
            "Epoch 16/50\n",
            "\n",
            "Epoch 16: val_loss did not improve from 0.00688\n",
            "4/4 - 73s - loss: 0.0833 - accuracy: 0.9833 - val_loss: 0.0176 - val_accuracy: 1.0000 - 73s/epoch - 18s/step\n",
            "Epoch 17/50\n",
            "\n",
            "Epoch 17: val_loss improved from 0.00688 to 0.00676, saving model to model.VGG1650epochs.hdf5\n",
            "4/4 - 74s - loss: 0.0276 - accuracy: 0.9833 - val_loss: 0.0068 - val_accuracy: 1.0000 - 74s/epoch - 18s/step\n",
            "Epoch 18/50\n",
            "\n",
            "Epoch 18: val_loss did not improve from 0.00676\n",
            "4/4 - 72s - loss: 0.0073 - accuracy: 1.0000 - val_loss: 0.0079 - val_accuracy: 1.0000 - 72s/epoch - 18s/step\n",
            "Epoch 19/50\n",
            "\n",
            "Epoch 19: val_loss did not improve from 0.00676\n",
            "4/4 - 73s - loss: 0.0481 - accuracy: 0.9750 - val_loss: 0.0371 - val_accuracy: 0.9833 - 73s/epoch - 18s/step\n",
            "Epoch 20/50\n",
            "\n",
            "Epoch 20: val_loss did not improve from 0.00676\n",
            "4/4 - 73s - loss: 0.0176 - accuracy: 0.9917 - val_loss: 0.0119 - val_accuracy: 1.0000 - 73s/epoch - 18s/step\n",
            "Epoch 21/50\n",
            "\n",
            "Epoch 21: val_loss did not improve from 0.00676\n",
            "4/4 - 74s - loss: 0.0526 - accuracy: 0.9917 - val_loss: 0.0083 - val_accuracy: 1.0000 - 74s/epoch - 18s/step\n",
            "Epoch 22/50\n",
            "\n",
            "Epoch 22: val_loss did not improve from 0.00676\n",
            "4/4 - 74s - loss: 0.0274 - accuracy: 0.9833 - val_loss: 0.0376 - val_accuracy: 0.9833 - 74s/epoch - 18s/step\n",
            "Epoch 23/50\n",
            "\n",
            "Epoch 23: val_loss did not improve from 0.00676\n",
            "4/4 - 62s - loss: 0.0538 - accuracy: 0.9783 - val_loss: 0.0150 - val_accuracy: 1.0000 - 62s/epoch - 15s/step\n",
            "Epoch 24/50\n",
            "\n",
            "Epoch 24: val_loss improved from 0.00676 to 0.00310, saving model to model.VGG1650epochs.hdf5\n",
            "4/4 - 74s - loss: 0.0608 - accuracy: 0.9833 - val_loss: 0.0031 - val_accuracy: 1.0000 - 74s/epoch - 18s/step\n",
            "Epoch 25/50\n",
            "\n",
            "Epoch 25: val_loss did not improve from 0.00310\n",
            "4/4 - 61s - loss: 0.0403 - accuracy: 0.9783 - val_loss: 0.0957 - val_accuracy: 0.9667 - 61s/epoch - 15s/step\n",
            "Epoch 26/50\n",
            "\n",
            "Epoch 26: val_loss did not improve from 0.00310\n",
            "4/4 - 72s - loss: 0.0254 - accuracy: 0.9917 - val_loss: 0.0648 - val_accuracy: 0.9833 - 72s/epoch - 18s/step\n",
            "Epoch 27/50\n",
            "\n",
            "Epoch 27: val_loss did not improve from 0.00310\n",
            "4/4 - 73s - loss: 0.0186 - accuracy: 1.0000 - val_loss: 0.0072 - val_accuracy: 1.0000 - 73s/epoch - 18s/step\n",
            "Epoch 28/50\n",
            "\n",
            "Epoch 28: val_loss did not improve from 0.00310\n",
            "4/4 - 95s - loss: 0.0075 - accuracy: 1.0000 - val_loss: 0.0372 - val_accuracy: 0.9833 - 95s/epoch - 24s/step\n",
            "Epoch 29/50\n",
            "\n",
            "Epoch 29: val_loss did not improve from 0.00310\n",
            "4/4 - 63s - loss: 0.0619 - accuracy: 0.9783 - val_loss: 0.0101 - val_accuracy: 1.0000 - 63s/epoch - 16s/step\n",
            "Epoch 30/50\n",
            "\n",
            "Epoch 30: val_loss improved from 0.00310 to 0.00237, saving model to model.VGG1650epochs.hdf5\n",
            "4/4 - 75s - loss: 0.0195 - accuracy: 0.9917 - val_loss: 0.0024 - val_accuracy: 1.0000 - 75s/epoch - 19s/step\n",
            "Epoch 31/50\n",
            "\n",
            "Epoch 31: val_loss did not improve from 0.00237\n",
            "4/4 - 75s - loss: 0.0255 - accuracy: 0.9917 - val_loss: 0.0957 - val_accuracy: 0.9667 - 75s/epoch - 19s/step\n",
            "Epoch 32/50\n",
            "\n",
            "Epoch 32: val_loss did not improve from 0.00237\n",
            "4/4 - 73s - loss: 0.0480 - accuracy: 0.9833 - val_loss: 0.0361 - val_accuracy: 0.9833 - 73s/epoch - 18s/step\n",
            "Epoch 33/50\n",
            "\n",
            "Epoch 33: val_loss improved from 0.00237 to 0.00187, saving model to model.VGG1650epochs.hdf5\n",
            "4/4 - 74s - loss: 0.0087 - accuracy: 1.0000 - val_loss: 0.0019 - val_accuracy: 1.0000 - 74s/epoch - 19s/step\n",
            "Epoch 34/50\n",
            "\n",
            "Epoch 34: val_loss did not improve from 0.00187\n",
            "4/4 - 76s - loss: 0.0069 - accuracy: 1.0000 - val_loss: 0.0619 - val_accuracy: 0.9833 - 76s/epoch - 19s/step\n",
            "Epoch 35/50\n",
            "\n",
            "Epoch 35: val_loss did not improve from 0.00187\n",
            "4/4 - 78s - loss: 0.0049 - accuracy: 1.0000 - val_loss: 0.0041 - val_accuracy: 1.0000 - 78s/epoch - 19s/step\n",
            "Epoch 36/50\n",
            "\n",
            "Epoch 36: val_loss did not improve from 0.00187\n",
            "4/4 - 73s - loss: 0.0108 - accuracy: 1.0000 - val_loss: 0.0542 - val_accuracy: 0.9833 - 73s/epoch - 18s/step\n",
            "Epoch 37/50\n",
            "\n",
            "Epoch 37: val_loss did not improve from 0.00187\n",
            "4/4 - 75s - loss: 0.0221 - accuracy: 0.9917 - val_loss: 0.0028 - val_accuracy: 1.0000 - 75s/epoch - 19s/step\n",
            "Epoch 38/50\n",
            "\n",
            "Epoch 38: val_loss did not improve from 0.00187\n",
            "4/4 - 77s - loss: 0.0110 - accuracy: 1.0000 - val_loss: 0.0050 - val_accuracy: 1.0000 - 77s/epoch - 19s/step\n",
            "Epoch 39/50\n",
            "\n",
            "Epoch 39: val_loss did not improve from 0.00187\n",
            "4/4 - 89s - loss: 0.0081 - accuracy: 1.0000 - val_loss: 0.0810 - val_accuracy: 0.9667 - 89s/epoch - 22s/step\n",
            "Epoch 40/50\n",
            "\n",
            "Epoch 40: val_loss did not improve from 0.00187\n",
            "4/4 - 75s - loss: 0.0389 - accuracy: 0.9917 - val_loss: 0.0550 - val_accuracy: 0.9833 - 75s/epoch - 19s/step\n",
            "Epoch 41/50\n",
            "\n",
            "Epoch 41: val_loss improved from 0.00187 to 0.00145, saving model to model.VGG1650epochs.hdf5\n",
            "4/4 - 75s - loss: 0.0067 - accuracy: 1.0000 - val_loss: 0.0015 - val_accuracy: 1.0000 - 75s/epoch - 19s/step\n",
            "Epoch 42/50\n",
            "\n",
            "Epoch 42: val_loss did not improve from 0.00145\n",
            "4/4 - 73s - loss: 0.0036 - accuracy: 1.0000 - val_loss: 0.0112 - val_accuracy: 1.0000 - 73s/epoch - 18s/step\n",
            "Epoch 43/50\n",
            "\n",
            "Epoch 43: val_loss did not improve from 0.00145\n",
            "4/4 - 77s - loss: 0.0591 - accuracy: 0.9750 - val_loss: 0.0113 - val_accuracy: 1.0000 - 77s/epoch - 19s/step\n",
            "Epoch 44/50\n",
            "\n",
            "Epoch 44: val_loss did not improve from 0.00145\n",
            "4/4 - 73s - loss: 0.0079 - accuracy: 1.0000 - val_loss: 0.0019 - val_accuracy: 1.0000 - 73s/epoch - 18s/step\n",
            "Epoch 45/50\n",
            "\n",
            "Epoch 45: val_loss did not improve from 0.00145\n",
            "4/4 - 73s - loss: 0.0099 - accuracy: 1.0000 - val_loss: 0.0018 - val_accuracy: 1.0000 - 73s/epoch - 18s/step\n",
            "Epoch 46/50\n",
            "\n",
            "Epoch 46: val_loss did not improve from 0.00145\n",
            "4/4 - 74s - loss: 0.0068 - accuracy: 1.0000 - val_loss: 0.0411 - val_accuracy: 0.9833 - 74s/epoch - 18s/step\n",
            "Epoch 47/50\n",
            "\n",
            "Epoch 47: val_loss did not improve from 0.00145\n",
            "4/4 - 61s - loss: 0.0147 - accuracy: 1.0000 - val_loss: 0.0335 - val_accuracy: 0.9833 - 61s/epoch - 15s/step\n",
            "Epoch 48/50\n",
            "\n",
            "Epoch 48: val_loss did not improve from 0.00145\n",
            "4/4 - 63s - loss: 0.0086 - accuracy: 1.0000 - val_loss: 0.0238 - val_accuracy: 0.9833 - 63s/epoch - 16s/step\n",
            "Epoch 49/50\n",
            "\n",
            "Epoch 49: val_loss did not improve from 0.00145\n",
            "4/4 - 62s - loss: 0.0892 - accuracy: 0.9783 - val_loss: 0.0317 - val_accuracy: 0.9833 - 62s/epoch - 15s/step\n",
            "Epoch 50/50\n",
            "\n",
            "Epoch 50: val_loss did not improve from 0.00145\n",
            "4/4 - 75s - loss: 0.0058 - accuracy: 1.0000 - val_loss: 0.0316 - val_accuracy: 0.9833 - 75s/epoch - 19s/step\n"
          ]
        }
      ]
    },
    {
      "cell_type": "code",
      "source": [
        "#Accuracy on validation data\n",
        "\n",
        "scores = new_model.evaluate(valid_batches, batch_size=30, verbose=1)\n",
        "print('\\nTest result: %.3f loss: %.3f' % (scores[1]*100,scores[0]))"
      ],
      "metadata": {
        "colab": {
          "base_uri": "https://localhost:8080/"
        },
        "id": "uvxGtAWx13Dh",
        "outputId": "377e7fa2-2350-48a9-d1cb-b9202fb4f2c6"
      },
      "execution_count": 35,
      "outputs": [
        {
          "output_type": "stream",
          "name": "stdout",
          "text": [
            "7/7 [==============================] - 84s 12s/step - loss: 0.0161 - accuracy: 0.9902\n",
            "\n",
            "Test result: 99.024 loss: 0.016\n"
          ]
        }
      ]
    },
    {
      "cell_type": "code",
      "source": [
        "plt.plot(history.history[\"accuracy\"], label = \"train accuracy\")\n",
        "plt.plot(history.history[\"val_accuracy\"], label = \"validation accuracy\")\n",
        "plt.plot(history.history[\"loss\"], label = \"train accuracy\")\n",
        "plt.plot(history.history[\"val_loss\"], label = \"validation accuracy\")\n",
        "plt.legend()\n",
        "plt.xlabel(\"epochs\")\n",
        "plt.ylabel(\"accuracy\")\n",
        "plt.title(\"Mask Detection\")\n",
        "plt.show()"
      ],
      "metadata": {
        "colab": {
          "base_uri": "https://localhost:8080/",
          "height": 295
        },
        "id": "nE3dGERCaQ1a",
        "outputId": "e78511df-5ebe-496e-e3e4-5bd8a3762eb2"
      },
      "execution_count": 36,
      "outputs": [
        {
          "output_type": "display_data",
          "data": {
            "text/plain": [
              "<Figure size 432x288 with 1 Axes>"
            ],
            "image/png": "[encoded data removed]"
          },
          "metadata": {
            "needs_background": "light"
          }
        }
      ]
    },
    {
      "cell_type": "code",
      "source": [
        "#Evaluating model on test data\n",
        "\n",
        "#converting our dataset into tensors\n",
        "def load_dataset(path):\n",
        "    data = load_files(path)\n",
        "    paths = np.array(data['filenames'])\n",
        "    targets = np_utils.to_categorical(np.array(data['target']))\n",
        "    return paths, targets\n"
      ],
      "metadata": {
        "id": "D9JbxHoDp5a-"
      },
      "execution_count": 38,
      "outputs": []
    },
    {
      "cell_type": "code",
      "source": [
        "from sklearn.datasets import load_files\n",
        "from keras.utils import np_utils\n",
        "\n",
        "#it is time to evaluating model on almost 1000 imagesof dogs and cats\n",
        "test_files, test_targets = load_dataset('/content/output/test')"
      ],
      "metadata": {
        "id": "4JRvYZRep-gv"
      },
      "execution_count": 40,
      "outputs": []
    },
    {
      "cell_type": "code",
      "source": [
        "from keras.preprocessing import image \n",
        "from keras.utils import img_to_array\n",
        "\n",
        "from keras.applications.vgg16 import preprocess_input\n",
        "from tqdm import tqdm\n",
        "\n",
        "def path_to_tensor(img_path):\n",
        "    # loads RGB image as PIL.Image.Image type\n",
        "    img = keras.utils.load_img(img_path, target_size=(224, 224))\n",
        "    # convert PIL.Image.Image type to 3D tensor with shape (224, 224, 3)\n",
        "    x = keras.utils.img_to_array(img)\n",
        "    # convert 3D tensor to 4D tensor with shape (1, 224, 224, 3) and return 4D tensor\n",
        "    return np.expand_dims(x, axis=0)\n",
        "\n",
        "def paths_to_tensor(img_paths):\n",
        "    list_of_tensors = [path_to_tensor(img_path) for img_path in tqdm(img_paths)]\n",
        "    return np.vstack(list_of_tensors)\n",
        "\n",
        "test_tensors = preprocess_input(paths_to_tensor(test_files))"
      ],
      "metadata": {
        "colab": {
          "base_uri": "https://localhost:8080/"
        },
        "id": "yW9TvgXtqQbA",
        "outputId": "ff594d80-9a82-4ffa-ce22-155d093e807a"
      },
      "execution_count": 41,
      "outputs": [
        {
          "output_type": "stream",
          "name": "stderr",
          "text": [
            "100%|██████████| 209/209 [00:00<00:00, 234.02it/s]\n"
          ]
        }
      ]
    },
    {
      "cell_type": "code",
      "source": [
        "#Evaluate and print test loss and test accuracy\n",
        "\n",
        "print('\\nTesting loss: {:.4f}\\nTesting accuracy: {:.4f}'.format(*new_model.evaluate(test_tensors, test_targets)))"
      ],
      "metadata": {
        "colab": {
          "base_uri": "https://localhost:8080/"
        },
        "id": "MF6cafqmraw6",
        "outputId": "6949e785-b1ca-4273-9c46-dd7108820ff5"
      },
      "execution_count": 46,
      "outputs": [
        {
          "output_type": "stream",
          "name": "stdout",
          "text": [
            "7/7 [==============================] - 85s 12s/step - loss: 0.0063 - accuracy: 1.0000\n",
            "\n",
            "Testing loss: 0.0063\n",
            "Testing accuracy: 1.0000\n"
          ]
        }
      ]
    },
    {
      "cell_type": "code",
      "source": [
        "#Lets test the model on one of the images with mask\n",
        "\n",
        "import cv2\n",
        "test_image = keras.utils.load_img('/content/output/test/mask/108-with-mask.jpg')\n",
        "\n",
        "test_image = cv2.imread('/content/output/test/mask/108-with-mask.jpg')\n",
        "test_image = cv2.resize(test_image,(224,224))\n",
        "target_size = (224, 224) \n",
        "\n",
        "#Turning test image to array\n",
        "\n",
        "test_image = keras.utils.img_to_array(test_image)\n",
        "test_image = np.expand_dims(test_image, axis = 0)\n",
        "Result = new_model.predict(test_image)\n",
        "print(Result)\n",
        "\n",
        "max = np.argmax(Result)\n",
        "if max == 0:\n",
        "  print('The prerson has a mask')\n",
        " \n",
        "if max == 1:\n",
        "   print('The person doesnt have a mask')"
      ],
      "metadata": {
        "colab": {
          "base_uri": "https://localhost:8080/"
        },
        "id": "l-X7DUgyvLbI",
        "outputId": "94c0443b-fba8-40c7-f849-4cfb23d05bb8"
      },
      "execution_count": 51,
      "outputs": [
        {
          "output_type": "stream",
          "name": "stdout",
          "text": [
            "1/1 [==============================] - 0s 418ms/step\n",
            "[[1.0000000e+00 2.9439429e-08]]\n",
            "The prerson has a mask\n"
          ]
        }
      ]
    },
    {
      "cell_type": "code",
      "source": [
        "#Lets test the model on one of the images without mask\n",
        "\n",
        "import cv2\n",
        "test_image = keras.utils.load_img('/content/output/test/withoutmaskk/110.jpg')\n",
        "\n",
        "test_image = cv2.imread('/content/output/test/withoutmaskk/110.jpg')\n",
        "test_image = cv2.resize(test_image,(224,224))\n",
        "target_size = (224, 224) \n",
        "\n",
        "#Turning test image to array\n",
        "\n",
        "test_image = keras.utils.img_to_array(test_image)\n",
        "test_image = np.expand_dims(test_image, axis = 0)\n",
        "Result = new_model.predict(test_image)\n",
        "print(Result)\n",
        "\n",
        "#class 0 meaans having mask\n",
        "#class 1 means without mask\n",
        "\n",
        "max = np.argmax(Result)\n",
        "if max == 0:\n",
        "  print('The prerson has a mask')\n",
        " \n",
        "if max == 1:\n",
        "   print('The person doesnt have a mask')"
      ],
      "metadata": {
        "colab": {
          "base_uri": "https://localhost:8080/"
        },
        "id": "B3b_aWb7zvtZ",
        "outputId": "f2c58161-5f03-4f70-aa1e-ef441f6644b6"
      },
      "execution_count": 52,
      "outputs": [
        {
          "output_type": "stream",
          "name": "stdout",
          "text": [
            "1/1 [==============================] - 0s 407ms/step\n",
            "[[0.03111053 0.9688895 ]]\n",
            "The person doesnt have a mask\n"
          ]
        }
      ]
    },
    {
      "cell_type": "code",
      "source": [
        "# The End"
      ],
      "metadata": {
        "id": "762ipuvspEBa"
      },
      "execution_count": null,
      "outputs": []
    }
  ]
}