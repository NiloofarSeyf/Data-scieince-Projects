{
  "cells": [
    {
      "cell_type": "markdown",
      "metadata": {
        "id": "view-in-github",
        "colab_type": "text"
      },
      "source": [
        "<a href=\"https://colab.research.google.com/github/NiloofarSeyf/Data-scieince-Projects/blob/main/Google_stock_price_LSTM.ipynb\" target=\"_parent\"><img src=\"https://colab.research.google.com/assets/colab-badge.svg\" alt=\"Open In Colab\"/></a>"
      ]
    },
    {
      "cell_type": "code",
      "execution_count": null,
      "id": "precious-secret",
      "metadata": {
        "_cell_guid": "b1076dfc-b9ad-4769-8c92-a6c4dae69d19",
        "_uuid": "8f2839f25d086af736a60e9eeb907d3b93b6e0e5",
        "execution": {
          "iopub.execute_input": "2021-05-22T07:28:52.229805Z",
          "iopub.status.busy": "2021-05-22T07:28:52.229286Z",
          "iopub.status.idle": "2021-05-22T07:28:52.242480Z",
          "shell.execute_reply": "2021-05-22T07:28:52.241946Z",
          "shell.execute_reply.started": "2021-05-21T22:23:35.398008Z"
        },
        "papermill": {
          "duration": 0.035621,
          "end_time": "2021-05-22T07:28:52.242607",
          "exception": false,
          "start_time": "2021-05-22T07:28:52.206986",
          "status": "completed"
        },
        "tags": [],
        "id": "precious-secret"
      },
      "outputs": [],
      "source": [
        "\n",
        "import numpy as np \n",
        "import pandas as pd \n",
        "import os\n",
        "from keras.models import Sequential\n",
        "from keras.layers import Dense\n",
        "from keras.layers import LSTM\n",
        "from keras.layers import Dropout\n",
        "import matplotlib.pyplot as plt\n",
        "from sklearn.preprocessing import MinMaxScaler \n"
      ]
    },
    {
      "cell_type": "code",
      "execution_count": null,
      "id": "specific-faith",
      "metadata": {
        "execution": {
          "iopub.execute_input": "2021-05-22T07:28:52.268820Z",
          "iopub.status.busy": "2021-05-22T07:28:52.268317Z",
          "iopub.status.idle": "2021-05-22T07:28:52.285723Z",
          "shell.execute_reply": "2021-05-22T07:28:52.285314Z",
          "shell.execute_reply.started": "2021-05-21T22:28:40.536411Z"
        },
        "papermill": {
          "duration": 0.031935,
          "end_time": "2021-05-22T07:28:52.285833",
          "exception": false,
          "start_time": "2021-05-22T07:28:52.253898",
          "status": "completed"
        },
        "tags": [],
        "id": "specific-faith"
      },
      "outputs": [],
      "source": [
        "#uploading the dataset\n",
        "dataset= pd.read_csv('/content/GOOG.csv')"
      ]
    },
    {
      "cell_type": "code",
      "execution_count": null,
      "id": "descending-insurance",
      "metadata": {
        "execution": {
          "iopub.execute_input": "2021-05-22T07:28:52.313630Z",
          "iopub.status.busy": "2021-05-22T07:28:52.312824Z",
          "iopub.status.idle": "2021-05-22T07:28:52.315734Z",
          "shell.execute_reply": "2021-05-22T07:28:52.315308Z",
          "shell.execute_reply.started": "2021-05-21T22:28:42.37409Z"
        },
        "papermill": {
          "duration": 0.018824,
          "end_time": "2021-05-22T07:28:52.315851",
          "exception": false,
          "start_time": "2021-05-22T07:28:52.297027",
          "status": "completed"
        },
        "tags": [],
        "id": "descending-insurance"
      },
      "outputs": [],
      "source": [
        "#splitting dataset in test and train\n",
        "Google_dataset_train = dataset.iloc[:1247,:]\n",
        "Google_dataset_test = dataset.iloc[1247:,:]"
      ]
    },
    {
      "cell_type": "code",
      "execution_count": null,
      "id": "considered-council",
      "metadata": {
        "execution": {
          "iopub.execute_input": "2021-05-22T07:28:52.349835Z",
          "iopub.status.busy": "2021-05-22T07:28:52.349061Z",
          "iopub.status.idle": "2021-05-22T07:28:52.351370Z",
          "shell.execute_reply": "2021-05-22T07:28:52.351782Z",
          "shell.execute_reply.started": "2021-05-21T22:29:17.832972Z"
        },
        "papermill": {
          "duration": 0.024367,
          "end_time": "2021-05-22T07:28:52.351929",
          "exception": false,
          "start_time": "2021-05-22T07:28:52.327562",
          "status": "completed"
        },
        "tags": [],
        "id": "considered-council"
      },
      "outputs": [],
      "source": [
        "training_set = Google_dataset_train.loc[:,['close', 'open']].values"
      ]
    },
    {
      "cell_type": "code",
      "execution_count": null,
      "id": "answering-springfield",
      "metadata": {
        "execution": {
          "iopub.execute_input": "2021-05-22T07:28:52.378299Z",
          "iopub.status.busy": "2021-05-22T07:28:52.377663Z",
          "iopub.status.idle": "2021-05-22T07:28:53.115086Z",
          "shell.execute_reply": "2021-05-22T07:28:53.114554Z",
          "shell.execute_reply.started": "2021-05-21T22:29:32.056887Z"
        },
        "papermill": {
          "duration": 0.752284,
          "end_time": "2021-05-22T07:28:53.115209",
          "exception": false,
          "start_time": "2021-05-22T07:28:52.362925",
          "status": "completed"
        },
        "tags": [],
        "id": "answering-springfield"
      },
      "outputs": [],
      "source": [
        "#Normalizing\n",
        "sc = MinMaxScaler(feature_range = (0, 1))\n",
        "training_set_scaled = sc.fit_transform(training_set)"
      ]
    },
    {
      "cell_type": "code",
      "execution_count": null,
      "id": "continuing-joyce",
      "metadata": {
        "execution": {
          "iopub.execute_input": "2021-05-22T07:28:53.145430Z",
          "iopub.status.busy": "2021-05-22T07:28:53.144658Z",
          "iopub.status.idle": "2021-05-22T07:28:53.150312Z",
          "shell.execute_reply": "2021-05-22T07:28:53.149908Z",
          "shell.execute_reply.started": "2021-05-21T22:30:00.365239Z"
        },
        "papermill": {
          "duration": 0.023176,
          "end_time": "2021-05-22T07:28:53.150423",
          "exception": false,
          "start_time": "2021-05-22T07:28:53.127247",
          "status": "completed"
        },
        "tags": [],
        "id": "continuing-joyce"
      },
      "outputs": [],
      "source": [
        "x_train = []\n",
        "y_train = []\n",
        "\n",
        "for i in range(60, 1247):\n",
        "    x_train.append(training_set_scaled[i-60:i,0:2])\n",
        "    y_train.append(training_set_scaled[i,0:2])\n",
        "x_train, y_train = np.array(x_train), np.array(y_train)\n",
        "\n",
        "x_train = np.reshape(x_train, (x_train.shape[0], x_train.shape[1], 2))"
      ]
    },
    {
      "cell_type": "code",
      "execution_count": null,
      "id": "short-alexander",
      "metadata": {
        "execution": {
          "iopub.execute_input": "2021-05-22T07:28:57.831121Z",
          "iopub.status.busy": "2021-05-22T07:28:57.830610Z",
          "iopub.status.idle": "2021-05-22T07:28:59.990690Z",
          "shell.execute_reply": "2021-05-22T07:28:59.991115Z",
          "shell.execute_reply.started": "2021-05-21T22:30:51.419674Z"
        },
        "papermill": {
          "duration": 2.175845,
          "end_time": "2021-05-22T07:28:59.991309",
          "exception": false,
          "start_time": "2021-05-22T07:28:57.815464",
          "status": "completed"
        },
        "tags": [],
        "id": "short-alexander"
      },
      "outputs": [],
      "source": [
        "Regressor = Sequential()"
      ]
    },
    {
      "cell_type": "code",
      "execution_count": null,
      "id": "single-hacker",
      "metadata": {
        "execution": {
          "iopub.execute_input": "2021-05-22T07:29:00.032505Z",
          "iopub.status.busy": "2021-05-22T07:29:00.030262Z",
          "iopub.status.idle": "2021-05-22T07:29:00.838669Z",
          "shell.execute_reply": "2021-05-22T07:29:00.838185Z",
          "shell.execute_reply.started": "2021-05-21T22:31:29.322056Z"
        },
        "papermill": {
          "duration": 0.836007,
          "end_time": "2021-05-22T07:29:00.838796",
          "exception": false,
          "start_time": "2021-05-22T07:29:00.002789",
          "status": "completed"
        },
        "tags": [],
        "id": "single-hacker"
      },
      "outputs": [],
      "source": [
        "#building the model architecture\n",
        "\n",
        "Regressor.add(LSTM(units = 64, return_sequences = True, input_shape = (x_train.shape[1], 2)))\n",
        "Regressor.add(Dropout(0.2))             \n",
        "\n",
        "Regressor.add(LSTM(units = 128, return_sequences = True))\n",
        "Regressor.add(Dropout(0.2))\n",
        "\n",
        "Regressor.add(LSTM(units = 256))\n",
        "Regressor.add(Dropout(0.2))\n",
        "\n",
        "Regressor.add(Dense(units = 2))"
      ]
    },
    {
      "cell_type": "code",
      "execution_count": null,
      "id": "demanding-family",
      "metadata": {
        "execution": {
          "iopub.execute_input": "2021-05-22T07:29:00.867123Z",
          "iopub.status.busy": "2021-05-22T07:29:00.866387Z",
          "iopub.status.idle": "2021-05-22T07:29:00.881545Z",
          "shell.execute_reply": "2021-05-22T07:29:00.881072Z",
          "shell.execute_reply.started": "2021-05-21T22:31:46.67191Z"
        },
        "papermill": {
          "duration": 0.031764,
          "end_time": "2021-05-22T07:29:00.881677",
          "exception": false,
          "start_time": "2021-05-22T07:29:00.849913",
          "status": "completed"
        },
        "tags": [],
        "id": "demanding-family"
      },
      "outputs": [],
      "source": [
        "#fitting regressor for 120 epochs\n",
        "Regressor.compile(optimizer = 'adam', loss = 'mean_squared_error')"
      ]
    },
    {
      "cell_type": "code",
      "execution_count": null,
      "id": "sound-timber",
      "metadata": {
        "execution": {
          "iopub.execute_input": "2021-05-22T07:29:00.907368Z",
          "iopub.status.busy": "2021-05-22T07:29:00.906775Z",
          "iopub.status.idle": "2021-05-22T07:29:45.976813Z",
          "shell.execute_reply": "2021-05-22T07:29:45.976270Z",
          "shell.execute_reply.started": "2021-05-21T22:32:00.729589Z"
        },
        "papermill": {
          "duration": 45.084203,
          "end_time": "2021-05-22T07:29:45.976948",
          "exception": false,
          "start_time": "2021-05-22T07:29:00.892745",
          "status": "completed"
        },
        "tags": [],
        "colab": {
          "base_uri": "https://localhost:8080/"
        },
        "id": "sound-timber",
        "outputId": "5de0133c-685a-41b9-ed0b-1e5520bce247"
      },
      "outputs": [
        {
          "output_type": "stream",
          "name": "stdout",
          "text": [
            "Epoch 1/120\n",
            "38/38 [==============================] - 19s 331ms/step - loss: 0.0137\n",
            "Epoch 2/120\n",
            "38/38 [==============================] - 12s 306ms/step - loss: 0.0020\n",
            "Epoch 3/120\n",
            "38/38 [==============================] - 13s 332ms/step - loss: 0.0023\n",
            "Epoch 4/120\n",
            "38/38 [==============================] - 12s 304ms/step - loss: 0.0017\n",
            "Epoch 5/120\n",
            "38/38 [==============================] - 12s 303ms/step - loss: 0.0017\n",
            "Epoch 6/120\n",
            "38/38 [==============================] - 12s 306ms/step - loss: 0.0019\n",
            "Epoch 7/120\n",
            "38/38 [==============================] - 12s 305ms/step - loss: 0.0013\n",
            "Epoch 8/120\n",
            "38/38 [==============================] - 12s 305ms/step - loss: 0.0013\n",
            "Epoch 9/120\n",
            "38/38 [==============================] - 12s 302ms/step - loss: 0.0015\n",
            "Epoch 10/120\n",
            "38/38 [==============================] - 12s 303ms/step - loss: 0.0014\n",
            "Epoch 11/120\n",
            "38/38 [==============================] - 12s 304ms/step - loss: 0.0015\n",
            "Epoch 12/120\n",
            "38/38 [==============================] - 12s 304ms/step - loss: 0.0018\n",
            "Epoch 13/120\n",
            "38/38 [==============================] - 12s 304ms/step - loss: 0.0015\n",
            "Epoch 14/120\n",
            "38/38 [==============================] - 12s 304ms/step - loss: 0.0017\n",
            "Epoch 15/120\n",
            "38/38 [==============================] - 12s 304ms/step - loss: 0.0014\n",
            "Epoch 16/120\n",
            "38/38 [==============================] - 12s 304ms/step - loss: 0.0012\n",
            "Epoch 17/120\n",
            "38/38 [==============================] - 13s 340ms/step - loss: 0.0011\n",
            "Epoch 18/120\n",
            "38/38 [==============================] - 12s 306ms/step - loss: 0.0010\n",
            "Epoch 19/120\n",
            "38/38 [==============================] - 12s 304ms/step - loss: 0.0011\n",
            "Epoch 20/120\n",
            "38/38 [==============================] - 12s 304ms/step - loss: 0.0010\n",
            "Epoch 21/120\n",
            "38/38 [==============================] - 12s 304ms/step - loss: 0.0011\n",
            "Epoch 22/120\n",
            "38/38 [==============================] - 12s 308ms/step - loss: 0.0014\n",
            "Epoch 23/120\n",
            "38/38 [==============================] - 12s 304ms/step - loss: 0.0011\n",
            "Epoch 24/120\n",
            "38/38 [==============================] - 12s 306ms/step - loss: 9.6812e-04\n",
            "Epoch 25/120\n",
            "38/38 [==============================] - 12s 305ms/step - loss: 0.0010\n",
            "Epoch 26/120\n",
            "38/38 [==============================] - 12s 305ms/step - loss: 0.0011\n",
            "Epoch 27/120\n",
            "38/38 [==============================] - 12s 308ms/step - loss: 0.0017\n",
            "Epoch 28/120\n",
            "38/38 [==============================] - 12s 306ms/step - loss: 8.8716e-04\n",
            "Epoch 29/120\n",
            "38/38 [==============================] - 12s 306ms/step - loss: 7.2703e-04\n",
            "Epoch 30/120\n",
            "38/38 [==============================] - 12s 305ms/step - loss: 9.3938e-04\n",
            "Epoch 31/120\n",
            "38/38 [==============================] - 12s 304ms/step - loss: 0.0014\n",
            "Epoch 32/120\n",
            "38/38 [==============================] - 12s 305ms/step - loss: 8.4817e-04\n",
            "Epoch 33/120\n",
            "38/38 [==============================] - 12s 305ms/step - loss: 7.7297e-04\n",
            "Epoch 34/120\n",
            "38/38 [==============================] - 12s 304ms/step - loss: 8.0051e-04\n",
            "Epoch 35/120\n",
            "38/38 [==============================] - 12s 305ms/step - loss: 7.9204e-04\n",
            "Epoch 36/120\n",
            "38/38 [==============================] - 12s 303ms/step - loss: 7.2817e-04\n",
            "Epoch 37/120\n",
            "38/38 [==============================] - 12s 305ms/step - loss: 7.6707e-04\n",
            "Epoch 38/120\n",
            "38/38 [==============================] - 13s 329ms/step - loss: 6.8600e-04\n",
            "Epoch 39/120\n",
            "38/38 [==============================] - 11s 302ms/step - loss: 7.3758e-04\n",
            "Epoch 40/120\n",
            "38/38 [==============================] - 12s 305ms/step - loss: 0.0012\n",
            "Epoch 41/120\n",
            "38/38 [==============================] - 12s 303ms/step - loss: 9.2954e-04\n",
            "Epoch 42/120\n",
            "38/38 [==============================] - 12s 304ms/step - loss: 6.4861e-04\n",
            "Epoch 43/120\n",
            "38/38 [==============================] - 12s 305ms/step - loss: 6.4843e-04\n",
            "Epoch 44/120\n",
            "38/38 [==============================] - 12s 306ms/step - loss: 6.8456e-04\n",
            "Epoch 45/120\n",
            "38/38 [==============================] - 11s 301ms/step - loss: 7.2870e-04\n",
            "Epoch 46/120\n",
            "38/38 [==============================] - 12s 303ms/step - loss: 7.7626e-04\n",
            "Epoch 47/120\n",
            "38/38 [==============================] - 11s 301ms/step - loss: 7.8315e-04\n",
            "Epoch 48/120\n",
            "38/38 [==============================] - 11s 302ms/step - loss: 6.1419e-04\n",
            "Epoch 49/120\n",
            "38/38 [==============================] - 11s 302ms/step - loss: 6.2598e-04\n",
            "Epoch 50/120\n",
            "38/38 [==============================] - 12s 303ms/step - loss: 7.0512e-04\n",
            "Epoch 51/120\n",
            "38/38 [==============================] - 12s 304ms/step - loss: 6.6192e-04\n",
            "Epoch 52/120\n",
            "38/38 [==============================] - 12s 307ms/step - loss: 6.9854e-04\n",
            "Epoch 53/120\n",
            "38/38 [==============================] - 12s 306ms/step - loss: 6.0955e-04\n",
            "Epoch 54/120\n",
            "38/38 [==============================] - 12s 305ms/step - loss: 9.1912e-04\n",
            "Epoch 55/120\n",
            "38/38 [==============================] - 12s 305ms/step - loss: 6.9865e-04\n",
            "Epoch 56/120\n",
            "38/38 [==============================] - 12s 305ms/step - loss: 6.2017e-04\n",
            "Epoch 57/120\n",
            "38/38 [==============================] - 12s 303ms/step - loss: 6.9546e-04\n",
            "Epoch 58/120\n",
            "38/38 [==============================] - 12s 304ms/step - loss: 5.9259e-04\n",
            "Epoch 59/120\n",
            "38/38 [==============================] - 12s 318ms/step - loss: 6.0852e-04\n",
            "Epoch 60/120\n",
            "38/38 [==============================] - 12s 303ms/step - loss: 8.7173e-04\n",
            "Epoch 61/120\n",
            "38/38 [==============================] - 12s 304ms/step - loss: 6.6170e-04\n",
            "Epoch 62/120\n",
            "38/38 [==============================] - 12s 306ms/step - loss: 7.0738e-04\n",
            "Epoch 63/120\n",
            "38/38 [==============================] - 12s 305ms/step - loss: 5.8644e-04\n",
            "Epoch 64/120\n",
            "38/38 [==============================] - 12s 306ms/step - loss: 5.5406e-04\n",
            "Epoch 65/120\n",
            "38/38 [==============================] - 12s 304ms/step - loss: 6.9234e-04\n",
            "Epoch 66/120\n",
            "38/38 [==============================] - 12s 305ms/step - loss: 6.2259e-04\n",
            "Epoch 67/120\n",
            "38/38 [==============================] - 12s 303ms/step - loss: 5.3965e-04\n",
            "Epoch 68/120\n",
            "38/38 [==============================] - 12s 305ms/step - loss: 6.8893e-04\n",
            "Epoch 69/120\n",
            "38/38 [==============================] - 12s 306ms/step - loss: 5.5176e-04\n",
            "Epoch 70/120\n",
            "38/38 [==============================] - 12s 307ms/step - loss: 5.5745e-04\n",
            "Epoch 71/120\n",
            "38/38 [==============================] - 12s 305ms/step - loss: 5.1985e-04\n",
            "Epoch 72/120\n",
            "38/38 [==============================] - 12s 309ms/step - loss: 5.1538e-04\n",
            "Epoch 73/120\n",
            "38/38 [==============================] - 12s 305ms/step - loss: 5.2656e-04\n",
            "Epoch 74/120\n",
            "38/38 [==============================] - 12s 306ms/step - loss: 5.3518e-04\n",
            "Epoch 75/120\n",
            "38/38 [==============================] - 12s 308ms/step - loss: 7.5439e-04\n",
            "Epoch 76/120\n",
            "38/38 [==============================] - 12s 305ms/step - loss: 5.1783e-04\n",
            "Epoch 77/120\n",
            "38/38 [==============================] - 12s 307ms/step - loss: 5.0443e-04\n",
            "Epoch 78/120\n",
            "38/38 [==============================] - 12s 303ms/step - loss: 4.4956e-04\n",
            "Epoch 79/120\n",
            "38/38 [==============================] - 12s 307ms/step - loss: 5.0264e-04\n",
            "Epoch 80/120\n",
            "38/38 [==============================] - 12s 304ms/step - loss: 5.0281e-04\n",
            "Epoch 81/120\n",
            "38/38 [==============================] - 12s 326ms/step - loss: 7.2820e-04\n",
            "Epoch 82/120\n",
            "38/38 [==============================] - 12s 304ms/step - loss: 5.2363e-04\n",
            "Epoch 83/120\n",
            "38/38 [==============================] - 12s 307ms/step - loss: 8.1658e-04\n",
            "Epoch 84/120\n",
            "38/38 [==============================] - 12s 307ms/step - loss: 5.1305e-04\n",
            "Epoch 85/120\n",
            "38/38 [==============================] - 12s 306ms/step - loss: 6.0207e-04\n",
            "Epoch 86/120\n",
            "38/38 [==============================] - 11s 302ms/step - loss: 5.9531e-04\n",
            "Epoch 87/120\n",
            "38/38 [==============================] - 12s 307ms/step - loss: 4.8263e-04\n",
            "Epoch 88/120\n",
            "38/38 [==============================] - 12s 308ms/step - loss: 5.4665e-04\n",
            "Epoch 89/120\n",
            "38/38 [==============================] - 12s 306ms/step - loss: 5.0239e-04\n",
            "Epoch 90/120\n",
            "38/38 [==============================] - 12s 304ms/step - loss: 4.1497e-04\n",
            "Epoch 91/120\n",
            "38/38 [==============================] - 12s 302ms/step - loss: 4.6841e-04\n",
            "Epoch 92/120\n",
            "38/38 [==============================] - 11s 302ms/step - loss: 5.6922e-04\n",
            "Epoch 93/120\n",
            "38/38 [==============================] - 12s 303ms/step - loss: 5.5842e-04\n",
            "Epoch 94/120\n",
            "38/38 [==============================] - 12s 305ms/step - loss: 4.4658e-04\n",
            "Epoch 95/120\n",
            "38/38 [==============================] - 11s 302ms/step - loss: 4.4694e-04\n",
            "Epoch 96/120\n",
            "38/38 [==============================] - 12s 304ms/step - loss: 4.5318e-04\n",
            "Epoch 97/120\n",
            "38/38 [==============================] - 12s 308ms/step - loss: 4.7970e-04\n",
            "Epoch 98/120\n",
            "38/38 [==============================] - 12s 303ms/step - loss: 5.1991e-04\n",
            "Epoch 99/120\n",
            "38/38 [==============================] - 12s 304ms/step - loss: 5.2585e-04\n",
            "Epoch 100/120\n",
            "38/38 [==============================] - 12s 307ms/step - loss: 4.8660e-04\n",
            "Epoch 101/120\n",
            "38/38 [==============================] - 12s 328ms/step - loss: 5.9659e-04\n",
            "Epoch 102/120\n",
            "38/38 [==============================] - 12s 306ms/step - loss: 5.2329e-04\n",
            "Epoch 103/120\n",
            "38/38 [==============================] - 12s 306ms/step - loss: 4.8113e-04\n",
            "Epoch 104/120\n",
            "38/38 [==============================] - 12s 304ms/step - loss: 4.5986e-04\n",
            "Epoch 105/120\n",
            "38/38 [==============================] - 12s 310ms/step - loss: 4.5820e-04\n",
            "Epoch 106/120\n",
            "38/38 [==============================] - 14s 360ms/step - loss: 4.1911e-04\n",
            "Epoch 107/120\n",
            "38/38 [==============================] - 12s 305ms/step - loss: 5.6071e-04\n",
            "Epoch 108/120\n",
            "38/38 [==============================] - 12s 305ms/step - loss: 4.1507e-04\n",
            "Epoch 109/120\n",
            "38/38 [==============================] - 12s 306ms/step - loss: 7.1490e-04\n",
            "Epoch 110/120\n",
            "38/38 [==============================] - 12s 306ms/step - loss: 4.2900e-04\n",
            "Epoch 111/120\n",
            "38/38 [==============================] - 12s 305ms/step - loss: 4.6425e-04\n",
            "Epoch 112/120\n",
            "38/38 [==============================] - 12s 307ms/step - loss: 4.4187e-04\n",
            "Epoch 113/120\n",
            "38/38 [==============================] - 11s 301ms/step - loss: 4.5218e-04\n",
            "Epoch 114/120\n",
            "38/38 [==============================] - 12s 307ms/step - loss: 3.7635e-04\n",
            "Epoch 115/120\n",
            "38/38 [==============================] - 12s 303ms/step - loss: 5.6182e-04\n",
            "Epoch 116/120\n",
            "38/38 [==============================] - 12s 303ms/step - loss: 4.3762e-04\n",
            "Epoch 117/120\n",
            "38/38 [==============================] - 12s 306ms/step - loss: 4.1195e-04\n",
            "Epoch 118/120\n",
            "38/38 [==============================] - 12s 307ms/step - loss: 4.6965e-04\n",
            "Epoch 119/120\n",
            "38/38 [==============================] - 12s 306ms/step - loss: 5.1504e-04\n",
            "Epoch 120/120\n",
            "38/38 [==============================] - 12s 307ms/step - loss: 4.5697e-04\n"
          ]
        },
        {
          "output_type": "execute_result",
          "data": {
            "text/plain": [
              "<keras.callbacks.History at 0x7ff0d2ee1e20>"
            ]
          },
          "metadata": {},
          "execution_count": 13
        }
      ],
      "source": [
        "Regressor.fit(x_train, y_train, epochs = 120, batch_size = 32)"
      ]
    },
    {
      "cell_type": "code",
      "execution_count": null,
      "id": "suffering-sociology",
      "metadata": {
        "execution": {
          "iopub.execute_input": "2021-05-22T07:29:46.448252Z",
          "iopub.status.busy": "2021-05-22T07:29:46.447371Z",
          "iopub.status.idle": "2021-05-22T07:29:47.279472Z",
          "shell.execute_reply": "2021-05-22T07:29:47.278879Z",
          "shell.execute_reply.started": "2021-05-21T22:38:40.896629Z"
        },
        "papermill": {
          "duration": 1.074195,
          "end_time": "2021-05-22T07:29:47.279653",
          "exception": false,
          "start_time": "2021-05-22T07:29:46.205458",
          "status": "completed"
        },
        "tags": [],
        "colab": {
          "base_uri": "https://localhost:8080/"
        },
        "id": "suffering-sociology",
        "outputId": "8ddbdc2d-6176-4732-8299-1a35559cd6ae"
      },
      "outputs": [
        {
          "output_type": "stream",
          "name": "stdout",
          "text": [
            "1/1 [==============================] - 1s 1s/step\n"
          ]
        }
      ],
      "source": [
        "dataset_test = Google_dataset_test.loc[:,['close', 'open']]\n",
        "\n",
        "dataset_total = dataset.loc[:,['close', 'open'],]\n",
        "inputs = dataset_total[len(dataset_total) - len(dataset_test) - 60:].values\n",
        "inputs = inputs.reshape(-2, 2)\n",
        "inputs = sc.transform(inputs)\n",
        "\n",
        "x_test = []\n",
        "\n",
        "for i in range(60, 70):\n",
        "    x_test.append(inputs[i-60:i,0:2])\n",
        "x_test = np.array(x_test)\n",
        "x_test = np.reshape(x_test, (x_test.shape[0], x_test.shape[1], 2))\n",
        "predicted_stock_price = Regressor.predict(x_test)\n",
        "predicted_stock_price = sc.inverse_transform(predicted_stock_price)\n",
        "\n",
        "real_stock_price = Google_dataset_test.loc[:,['close', 'open']].values\n"
      ]
    },
    {
      "cell_type": "code",
      "execution_count": null,
      "id": "standard-convention",
      "metadata": {
        "execution": {
          "iopub.execute_input": "2021-05-22T07:29:48.229792Z",
          "iopub.status.busy": "2021-05-22T07:29:48.228800Z",
          "iopub.status.idle": "2021-05-22T07:29:48.414443Z",
          "shell.execute_reply": "2021-05-22T07:29:48.414843Z",
          "shell.execute_reply.started": "2021-05-21T22:41:53.420009Z"
        },
        "papermill": {
          "duration": 0.43343,
          "end_time": "2021-05-22T07:29:48.414986",
          "exception": false,
          "start_time": "2021-05-22T07:29:47.981556",
          "status": "completed"
        },
        "tags": [],
        "colab": {
          "base_uri": "https://localhost:8080/",
          "height": 295
        },
        "id": "standard-convention",
        "outputId": "b85681a5-93c7-44fe-f522-28acdef4138c"
      },
      "outputs": [
        {
          "output_type": "display_data",
          "data": {
            "text/plain": [
              "<Figure size 432x288 with 1 Axes>"
            ],
            "image/png": "[encoded data removed]"
          },
          "metadata": {
            "needs_background": "light"
          }
        }
      ],
      "source": [
        "#Plotting results\n",
        "\n",
        "plt.plot(predicted_stock_price[:,0], color = 'blue', label = 'Predicted Google stock price(close)')\n",
        "plt.plot(predicted_stock_price[:,1], color = 'black', label = 'Predicted Google stock price(open)')\n",
        "plt.plot(real_stock_price[:, 0], color = 'red', label = 'Real Google stock price(close)')\n",
        "plt.plot(real_stock_price[:, 1], color = 'yellow', label = 'Real Google stock price(open)')\n",
        "plt.title('Google stock Price Prediction')\n",
        "plt.xlabel('Time')\n",
        "plt.ylabel('Google Stock Price')\n",
        "plt.legend()\n",
        "plt.show()\n"
      ]
    },
    {
      "cell_type": "code",
      "execution_count": null,
      "id": "unsigned-covering",
      "metadata": {
        "papermill": {
          "duration": 0.232422,
          "end_time": "2021-05-22T07:29:48.877047",
          "exception": false,
          "start_time": "2021-05-22T07:29:48.644625",
          "status": "completed"
        },
        "tags": [],
        "id": "unsigned-covering"
      },
      "outputs": [],
      "source": [
        "#as you see in the plot, the accuracy of the model for a few days is good and close to the real prices."
      ]
    }
  ],
  "metadata": {
    "kernelspec": {
      "display_name": "Python 3",
      "language": "python",
      "name": "python3"
    },
    "language_info": {
      "codemirror_mode": {
        "name": "ipython",
        "version": 3
      },
      "file_extension": ".py",
      "mimetype": "text/x-python",
      "name": "python",
      "nbconvert_exporter": "python",
      "pygments_lexer": "ipython3",
      "version": "3.7.10"
    },
    "papermill": {
      "default_parameters": {},
      "duration": 65.647519,
      "end_time": "2021-05-22T07:29:51.408918",
      "environment_variables": {},
      "exception": null,
      "input_path": "__notebook__.ipynb",
      "output_path": "__notebook__.ipynb",
      "parameters": {},
      "start_time": "2021-05-22T07:28:45.761399",
      "version": "2.3.3"
    },
    "colab": {
      "provenance": [],
      "include_colab_link": true
    }
  },
  "nbformat": 4,
  "nbformat_minor": 5
}